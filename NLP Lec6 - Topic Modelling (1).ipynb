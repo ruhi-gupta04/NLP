{
 "cells": [
  {
   "cell_type": "code",
   "execution_count": 80,
   "metadata": {},
   "outputs": [],
   "source": [
    "import gensim"
   ]
  },
  {
   "cell_type": "code",
   "execution_count": 81,
   "metadata": {},
   "outputs": [],
   "source": [
    "import numpy as np\n",
    "import pandas as pd"
   ]
  },
  {
   "cell_type": "code",
   "execution_count": 82,
   "metadata": {},
   "outputs": [],
   "source": [
    "df=pd.read_csv(\"Consumer_Complaints (1).csv\")"
   ]
  },
  {
   "cell_type": "code",
   "execution_count": 83,
   "metadata": {},
   "outputs": [],
   "source": [
    "df=df[[\"Consumer complaint narrative\"]].dropna()"
   ]
  },
  {
   "cell_type": "code",
   "execution_count": 84,
   "metadata": {},
   "outputs": [],
   "source": [
    "df=df[:100]"
   ]
  },
  {
   "cell_type": "code",
   "execution_count": 85,
   "metadata": {},
   "outputs": [],
   "source": [
    "df[\"Consumer complaint narrative\"]=df[\"Consumer complaint narrative\"].str.lower()"
   ]
  },
  {
   "cell_type": "code",
   "execution_count": 86,
   "metadata": {},
   "outputs": [
    {
     "data": {
      "text/html": [
       "<div>\n",
       "<style scoped>\n",
       "    .dataframe tbody tr th:only-of-type {\n",
       "        vertical-align: middle;\n",
       "    }\n",
       "\n",
       "    .dataframe tbody tr th {\n",
       "        vertical-align: top;\n",
       "    }\n",
       "\n",
       "    .dataframe thead th {\n",
       "        text-align: right;\n",
       "    }\n",
       "</style>\n",
       "<table border=\"1\" class=\"dataframe\">\n",
       "  <thead>\n",
       "    <tr style=\"text-align: right;\">\n",
       "      <th></th>\n",
       "      <th>Consumer complaint narrative</th>\n",
       "    </tr>\n",
       "  </thead>\n",
       "  <tbody>\n",
       "    <tr>\n",
       "      <th>43374</th>\n",
       "      <td>when they call they dont answer the call and t...</td>\n",
       "    </tr>\n",
       "    <tr>\n",
       "      <th>44383</th>\n",
       "      <td>xxxx xxxx xxxx xxxx had posted 3 collection ac...</td>\n",
       "    </tr>\n",
       "    <tr>\n",
       "      <th>44469</th>\n",
       "      <td>xxxx of the month every month since xx/xx/2019...</td>\n",
       "    </tr>\n",
       "    <tr>\n",
       "      <th>44562</th>\n",
       "      <td>there are 2 charges on my credit report from a...</td>\n",
       "    </tr>\n",
       "    <tr>\n",
       "      <th>44659</th>\n",
       "      <td>i provided account information which showed de...</td>\n",
       "    </tr>\n",
       "  </tbody>\n",
       "</table>\n",
       "</div>"
      ],
      "text/plain": [
       "                            Consumer complaint narrative\n",
       "43374  when they call they dont answer the call and t...\n",
       "44383  xxxx xxxx xxxx xxxx had posted 3 collection ac...\n",
       "44469  xxxx of the month every month since xx/xx/2019...\n",
       "44562  there are 2 charges on my credit report from a...\n",
       "44659  i provided account information which showed de..."
      ]
     },
     "execution_count": 86,
     "metadata": {},
     "output_type": "execute_result"
    }
   ],
   "source": [
    "df.head()"
   ]
  },
  {
   "cell_type": "code",
   "execution_count": 87,
   "metadata": {},
   "outputs": [],
   "source": [
    "from sklearn.feature_extraction.text import TfidfVectorizer"
   ]
  },
  {
   "cell_type": "code",
   "execution_count": 88,
   "metadata": {},
   "outputs": [],
   "source": [
    "tfid=TfidfVectorizer(stop_words=\"english\")"
   ]
  },
  {
   "cell_type": "code",
   "execution_count": 89,
   "metadata": {},
   "outputs": [],
   "source": [
    "X=tfid.fit_transform(df[\"Consumer complaint narrative\"])"
   ]
  },
  {
   "cell_type": "code",
   "execution_count": 90,
   "metadata": {},
   "outputs": [
    {
     "data": {
      "text/plain": [
       "(19, 530)"
      ]
     },
     "execution_count": 90,
     "metadata": {},
     "output_type": "execute_result"
    }
   ],
   "source": [
    "X.shape"
   ]
  },
  {
   "cell_type": "code",
   "execution_count": 91,
   "metadata": {},
   "outputs": [],
   "source": [
    "from sklearn.decomposition import TruncatedSVD"
   ]
  },
  {
   "cell_type": "code",
   "execution_count": 92,
   "metadata": {},
   "outputs": [],
   "source": [
    "lsa=TruncatedSVD(n_components=3,n_iter=100)"
   ]
  },
  {
   "cell_type": "code",
   "execution_count": 93,
   "metadata": {},
   "outputs": [
    {
     "data": {
      "text/plain": [
       "TruncatedSVD(algorithm='randomized', n_components=3, n_iter=100,\n",
       "       random_state=None, tol=0.0)"
      ]
     },
     "execution_count": 93,
     "metadata": {},
     "output_type": "execute_result"
    }
   ],
   "source": [
    "lsa.fit(X)"
   ]
  },
  {
   "cell_type": "code",
   "execution_count": 94,
   "metadata": {},
   "outputs": [
    {
     "data": {
      "text/plain": [
       "array([ 5.90376530e-02, -7.56502764e-03, -4.15630816e-03,  3.83190547e-02,\n",
       "        4.64864800e-03, -7.56502764e-03,  7.66381094e-02, -3.10462899e-02,\n",
       "        1.79731923e-01,  2.03093810e-01,  4.09403941e-02, -2.11734616e-03,\n",
       "        1.06509507e-03,  3.83190547e-02,  2.32432400e-03, -1.55231450e-02,\n",
       "       -8.20319602e-02,  2.32432400e-03,  1.06509507e-03,  2.32432400e-03,\n",
       "        1.21203535e-02, -7.06232638e-03, -7.13560360e-03,  2.32432400e-03,\n",
       "       -7.56502764e-03, -1.19313122e-01, -2.38258869e-02, -7.06232638e-03,\n",
       "       -7.13560360e-03, -7.13560360e-03, -4.22058899e-03, -2.68898443e-02,\n",
       "        1.21203535e-02, -2.11869791e-02, -9.81061006e-03,  2.32432400e-03,\n",
       "       -6.89558607e-02,  4.64864800e-03,  4.64864800e-03, -2.92826729e-02,\n",
       "       -3.15684284e-03, -7.56502764e-03,  2.32432400e-03,  4.64864800e-03,\n",
       "        2.74150137e-04,  2.32432400e-03, -7.56502764e-03, -7.56502764e-03,\n",
       "       -2.61683123e-02, -3.02601105e-02, -7.13560360e-03,  3.83190547e-02,\n",
       "       -1.52202773e-02, -7.56502764e-03, -7.56502764e-03,  3.68483895e-02,\n",
       "        4.09403941e-02, -1.55231450e-02, -1.55231450e-02,  2.32432400e-03,\n",
       "        2.32432400e-03, -7.56502764e-03,  2.32432400e-03, -7.56502764e-03,\n",
       "        2.32432400e-03,  2.32432400e-03,  4.64864800e-03,  3.83875470e-03,\n",
       "       -9.19458353e-03, -7.56502764e-03, -1.51300553e-02,  2.32432400e-03,\n",
       "       -7.13560360e-03,  2.32432400e-03,  4.64864800e-03, -7.56502764e-03,\n",
       "       -1.55231450e-02,  4.80163650e-02, -2.26950829e-02, -1.01886627e-02,\n",
       "       -3.02601105e-02, -7.56502764e-03, -7.56502764e-03, -7.56502764e-03,\n",
       "        4.09403941e-02, -1.55231450e-02, -1.55231450e-02, -7.56502764e-03,\n",
       "       -1.55231450e-02,  2.32432400e-03,  3.83190547e-02, -7.56502764e-03,\n",
       "        4.64864800e-03,  2.32432400e-03, -6.80843225e-03, -2.66132422e-02,\n",
       "       -7.56502764e-03, -7.56502764e-03, -2.11793286e-02, -7.56502764e-03,\n",
       "        3.83190547e-02, -2.66132422e-02,  2.32432400e-03, -3.10462899e-02,\n",
       "       -1.52202773e-02, -8.53123820e-02, -1.51300553e-02, -4.05602192e-02,\n",
       "       -1.52202773e-02,  1.21203535e-02, -7.85969829e-02, -7.06232638e-03,\n",
       "       -4.39353843e-02, -3.27402852e-02, -7.56502764e-03, -1.52202773e-02,\n",
       "       -3.78251382e-02, -1.52202773e-02, -7.56502764e-03, -3.04405547e-02,\n",
       "       -7.56502764e-03, -7.56502764e-03, -3.12312633e-02, -1.52202773e-02,\n",
       "        1.16216200e-02,  1.49115648e-01, -1.28958048e-02,  2.32432400e-03,\n",
       "        2.32432400e-03, -7.56502764e-03,  5.91393942e-02, -3.10462899e-02,\n",
       "        6.97297199e-03,  6.97297199e-03, -1.64153435e-03, -7.06232638e-03,\n",
       "       -1.52202773e-02,  6.97297199e-03,  4.09403941e-02, -4.25444221e-02,\n",
       "        4.64864800e-03, -1.24548212e-02,  1.21203535e-02,  3.83190547e-02,\n",
       "       -7.56502764e-03,  2.32432400e-03,  4.02147280e-03, -4.85106878e-02,\n",
       "       -6.80843225e-03, -4.59729176e-03, -7.56502764e-03, -7.56502764e-03,\n",
       "        1.33153184e-01,  3.38550383e-02, -3.38709273e-02, -1.51300553e-02,\n",
       "        3.83875470e-03,  4.64864800e-03, -7.13560360e-03, -1.13126908e-02,\n",
       "        1.06509507e-03,  4.09403941e-02, -3.12312633e-02, -7.06232638e-03,\n",
       "        1.21203535e-02,  4.64864800e-03,  4.64864800e-03, -7.56502764e-03,\n",
       "       -1.51300553e-02, -2.11869791e-02,  4.09403941e-02,  2.32432400e-03,\n",
       "       -7.56502764e-03, -2.02535906e-02, -3.12312633e-02,  1.99972094e-02,\n",
       "        2.32432400e-03,  2.32432400e-03,  2.32432400e-03, -2.66132422e-02,\n",
       "        2.32432400e-03,  3.83190547e-02, -7.56502764e-03,  3.99919824e-02,\n",
       "        2.32432400e-03,  2.32432400e-03,  1.49734327e-02,  2.90147455e-02,\n",
       "        2.32432400e-03,  5.57705739e-02, -1.55231450e-02,  2.32432400e-03,\n",
       "        9.06003262e-02, -7.56502764e-03,  2.32432400e-03,  1.39459440e-02,\n",
       "        2.32432400e-03, -7.56502764e-03, -7.13560360e-03, -7.56502764e-03,\n",
       "        2.32432400e-03, -1.92679562e-02,  2.32432400e-03, -6.80843225e-03,\n",
       "       -5.32264844e-02,  4.64864800e-03, -7.56502764e-03, -2.66132422e-02,\n",
       "        2.32432400e-03, -4.01623518e-02, -4.59729176e-03,  2.32432400e-03,\n",
       "       -7.56502764e-03, -7.56502764e-03, -7.56502764e-03, -1.55231450e-02,\n",
       "        2.32432400e-03, -1.55231450e-02, -7.56502764e-03, -1.52202773e-02,\n",
       "        2.69782924e-02, -7.56502764e-03, -1.55231450e-02, -2.65835350e-02,\n",
       "       -1.06452969e-01,  1.51959423e-03, -1.55231450e-02,  1.06509507e-03,\n",
       "        2.32432400e-03, -7.56502764e-03,  3.83875470e-03, -1.51300553e-02,\n",
       "       -1.55231450e-02,  1.39459440e-02,  1.21203535e-02,  3.83875470e-03,\n",
       "       -7.56502764e-03, -5.05805537e-02, -3.12312633e-02, -7.06232638e-03,\n",
       "       -3.46249223e-02, -5.90823007e-02, -7.06232638e-03,  2.32432400e-03,\n",
       "       -4.23210614e-02, -2.14068108e-02,  3.83875470e-03, -2.26950829e-02,\n",
       "        4.64864800e-03, -2.33190134e-02, -7.56502764e-03, -1.17529133e-02,\n",
       "        4.98578380e-02, -1.06452969e-01,  2.32432400e-03, -2.13069182e-02,\n",
       "        2.32432400e-03,  2.32432400e-03,  4.64864800e-03, -2.02535906e-02,\n",
       "       -1.13126908e-02,  2.32432400e-03, -1.51300553e-02, -2.66132422e-02,\n",
       "       -7.56502764e-03, -1.51300553e-02, -4.10430515e-02,  4.09403941e-02,\n",
       "       -7.56502764e-03, -1.03521072e-02, -7.56502764e-03, -1.51300553e-02,\n",
       "       -4.59729176e-03, -7.06232638e-03, -1.55231450e-02, -3.93358513e-03,\n",
       "       -6.80843225e-03, -1.46431694e-02,  2.32432400e-03, -1.52202773e-02,\n",
       "       -1.51300553e-02,  2.32432400e-03,  2.32432400e-03, -1.55231450e-02,\n",
       "        3.99246516e-02,  1.49115648e-01,  1.62702680e-02, -7.56502764e-03,\n",
       "       -7.56502764e-03,  3.83190547e-02, -7.56502764e-03, -1.55231450e-02,\n",
       "       -7.13560360e-03, -4.59729176e-03, -1.52202773e-02,  2.32432400e-03,\n",
       "       -7.56502764e-03, -1.09263222e-01,  1.21203535e-02,  2.32432400e-03,\n",
       "       -7.56502764e-03,  2.32432400e-03, -7.13560360e-03, -1.55231450e-02,\n",
       "       -1.51300553e-02, -7.56502764e-03,  2.32432400e-03,  8.18807881e-02,\n",
       "       -4.59729176e-03, -3.14562998e-02,  6.97297199e-03,  1.16216200e-02,\n",
       "       -1.20251571e-02, -7.56502764e-03, -1.51300553e-02, -2.72247230e-02,\n",
       "       -7.56502764e-03, -1.51300553e-02,  2.32432400e-03,  2.32432400e-03,\n",
       "       -7.56502764e-03,  2.32432400e-03,  4.09403941e-02, -4.33459619e-02,\n",
       "       -4.76759142e-03,  4.09403941e-02, -2.66132422e-02,  1.49115648e-01,\n",
       "        2.32432400e-03, -7.56502764e-03, -7.56502764e-03, -7.56502764e-03,\n",
       "        2.32432400e-03,  4.64864800e-03,  2.32432400e-03, -1.78697993e-02,\n",
       "       -1.55231450e-02, -7.56502764e-03, -7.56502764e-03, -3.93358513e-03,\n",
       "       -7.56502764e-03,  3.99919824e-02,  2.32432400e-03, -4.06694449e-02,\n",
       "       -7.56502764e-03,  3.99605920e-03, -3.23439638e-02, -2.11876043e-02,\n",
       "        2.32432400e-03, -7.56502764e-03,  2.32432400e-03, -1.45694337e-02,\n",
       "        4.64864800e-03,  2.32432400e-03, -6.97660140e-02, -1.07492857e-02,\n",
       "       -1.21678173e-02,  2.32432400e-03,  1.49115648e-01, -2.45060531e-02,\n",
       "       -3.11423068e-02,  3.24079183e-03, -3.02601105e-02, -1.55231450e-02,\n",
       "       -7.56502764e-03, -7.56502764e-03,  2.32432400e-03, -7.06232638e-03,\n",
       "       -7.06232638e-03, -7.06232638e-03,  2.32432400e-03, -7.56502764e-03,\n",
       "       -7.56502764e-03, -7.56502764e-03,  2.73549952e-02,  2.32432400e-03,\n",
       "        6.97297199e-03, -4.54143301e-02, -7.13560360e-03,  1.15666441e-02,\n",
       "        2.32432400e-03,  4.64864800e-03,  2.32432400e-03,  2.32432400e-03,\n",
       "       -1.55231450e-02,  2.32432400e-03,  3.83190547e-02, -7.56502764e-03,\n",
       "       -1.45694337e-02, -4.59729176e-03,  1.25681782e-02, -7.13560360e-03,\n",
       "       -6.80843225e-03, -7.56502764e-03, -1.28315239e-02, -7.06232638e-03,\n",
       "       -7.56502764e-03, -1.51300553e-02, -7.56502764e-03,  2.32432400e-03,\n",
       "        2.32432400e-03, -7.06232638e-03,  2.32432400e-03, -7.06232638e-03,\n",
       "       -2.85494832e-02, -7.56502764e-03, -1.51300553e-02, -2.66132422e-02,\n",
       "        2.32432400e-03,  8.02722734e-02, -2.07378902e-02, -1.86500913e-02,\n",
       "       -7.06232638e-03, -7.56502764e-03, -2.12800514e-02,  2.32432400e-03,\n",
       "        2.32432400e-03,  5.57705739e-02,  3.83875470e-03,  3.83190547e-02,\n",
       "       -7.56502764e-03, -6.80843225e-03,  2.32432400e-03,  2.32432400e-03,\n",
       "       -1.06595926e-02, -2.11869791e-02, -7.56502764e-03, -7.85969829e-02,\n",
       "       -1.51300553e-02, -1.51300553e-02,  2.32432400e-03, -4.41615618e-02,\n",
       "       -7.56502764e-03,  3.76924702e-02, -6.66005216e-02, -3.62916999e-02,\n",
       "        2.09242248e-02,  6.97297199e-03, -1.55231450e-02,  2.32432400e-03,\n",
       "        2.32432400e-03,  2.32432400e-03,  1.06509507e-03,  1.06509507e-03,\n",
       "       -2.66132422e-02, -4.66912123e-02,  4.22872530e-02,  2.32432400e-03,\n",
       "       -7.56502764e-03, -6.66005216e-02, -2.66132422e-02, -7.56502764e-03,\n",
       "       -1.28315239e-02, -7.56502764e-03, -1.55231450e-02, -2.56630479e-02,\n",
       "       -1.55231450e-02,  2.32432400e-03, -7.56502764e-03,  4.64864800e-03,\n",
       "        2.32432400e-03, -3.78251382e-02, -2.26950829e-02,  1.06509507e-03,\n",
       "       -2.26950829e-02,  2.32432400e-03, -7.56502764e-03, -7.56502764e-03,\n",
       "        4.09403941e-02, -7.06232638e-03, -4.15630816e-03, -8.20319602e-02,\n",
       "        4.64864800e-03,  4.64864800e-03,  4.64864800e-03,  2.32432400e-03,\n",
       "       -4.59729176e-03, -7.13560360e-03, -7.56502764e-03,  5.57705739e-02,\n",
       "        2.32432400e-03, -1.33419500e-01,  1.41053939e-02, -2.95411503e-02,\n",
       "       -3.77785606e-02,  2.32432400e-03,  6.97297199e-03, -1.55231450e-02,\n",
       "        2.32432400e-03, -1.51300553e-02,  3.83190547e-02,  2.48742799e-02,\n",
       "       -4.38819999e-02,  2.32432400e-03,  3.83875470e-03, -2.26950829e-02,\n",
       "       -1.55231450e-02, -1.55231450e-02, -7.56502764e-03, -7.56502764e-03,\n",
       "       -7.56502764e-03,  2.92778046e-02, -7.56502764e-03, -7.13560360e-03,\n",
       "       -1.55231450e-02, -4.59729176e-03, -7.56502764e-03, -7.56502764e-03,\n",
       "       -7.56502764e-03, -7.56502764e-03,  4.64864800e-03, -7.56502764e-03,\n",
       "       -7.06232638e-03,  2.32432400e-03, -7.56502764e-03, -7.56502764e-03,\n",
       "        4.64864800e-03,  4.64864800e-03,  4.09403941e-02,  2.32432400e-03,\n",
       "       -1.15783748e-02, -4.59729176e-03,  2.32432400e-03,  2.32432400e-03,\n",
       "        6.17460908e-01, -3.32321216e-01,  2.32432400e-03,  2.32432400e-03,\n",
       "       -7.83620861e-02,  2.32432400e-03])"
      ]
     },
     "execution_count": 94,
     "metadata": {},
     "output_type": "execute_result"
    }
   ],
   "source": [
    "lsa.components_[2]"
   ]
  },
  {
   "cell_type": "code",
   "execution_count": 95,
   "metadata": {},
   "outputs": [
    {
     "name": "stdout",
     "output_type": "stream",
     "text": [
      "\n",
      "Topic 0 :\n",
      "('xxxx', 0.6321737431562826)\n",
      "('xx', 0.4228042761217452)\n",
      "('accounts', 0.1922017199865974)\n",
      "('account', 0.16267691683923538)\n",
      "('credit', 0.14740054306232594)\n",
      "\n",
      "Topic 1 :\n",
      "('accounts', 0.5443738391938747)\n",
      "('belong', 0.24034047801087846)\n",
      "('does', 0.24034047801087846)\n",
      "('identified', 0.24034047801087846)\n",
      "('inaccurate', 0.24034047801087846)\n",
      "\n",
      "Topic 2 :\n",
      "('xx', 0.6174609077480453)\n",
      "('2019', 0.20309380987733838)\n",
      "('2018', 0.17973192274279157)\n",
      "('copy', 0.1491156482396142)\n",
      "('main', 0.1491156482396142)\n"
     ]
    }
   ],
   "source": [
    "prob = list(tfid.get_feature_names())\n",
    "for i,y in enumerate(lsa.components_):\n",
    "    componentwords = zip(prob,y)\n",
    "    sortedComponentwords = sorted(componentwords,key=lambda x:x[1],reverse=True)\n",
    "    sortedComponentwords = sortedComponentwords[:5]\n",
    "    print(\"\\nTopic\",i,\":\")\n",
    "    for x in sortedComponentwords:\n",
    "        print(x)"
   ]
  },
  {
   "cell_type": "code",
   "execution_count": 97,
   "metadata": {},
   "outputs": [],
   "source": [
    "corpus=df[\"Consumer complaint narrative\"].tolist()"
   ]
  },
  {
   "cell_type": "code",
   "execution_count": 98,
   "metadata": {},
   "outputs": [],
   "source": [
    "final_corpus=[]\n",
    "for i in range(len(corpus)):\n",
    "    word=word_tokenize(corpus[i])\n",
    "    word=[lan.stem(t) for t in word if t not in stuff_to_be_removed]\n",
    "    word=\" \".join(word)\n",
    "    final_corpus.append(word)"
   ]
  },
  {
   "cell_type": "code",
   "execution_count": 100,
   "metadata": {},
   "outputs": [],
   "source": [
    "Y=tfid.fit_transform(final_corpus)"
   ]
  },
  {
   "cell_type": "code",
   "execution_count": 101,
   "metadata": {},
   "outputs": [
    {
     "data": {
      "text/plain": [
       "TruncatedSVD(algorithm='randomized', n_components=3, n_iter=100,\n",
       "       random_state=None, tol=0.0)"
      ]
     },
     "execution_count": 101,
     "metadata": {},
     "output_type": "execute_result"
    }
   ],
   "source": [
    "lsa.fit(Y)"
   ]
  },
  {
   "cell_type": "code",
   "execution_count": 103,
   "metadata": {},
   "outputs": [
    {
     "name": "stdout",
     "output_type": "stream",
     "text": [
      "\n",
      "Topic 0 :\n",
      "('xxxx', 0.5568541525293892)\n",
      "('xx', 0.373969854655459)\n",
      "('account', 0.32012161055250776)\n",
      "('credit', 0.16883163997761785)\n",
      "('report', 0.16702877215014475)\n",
      "('pay', 0.1255536004008104)\n",
      "('review', 0.11135045554562827)\n",
      "('cal', 0.10825358145854225)\n",
      "('00', 0.10719862552807961)\n",
      "('disput', 0.10551998661540772)\n",
      "('ag', 0.10343926474868163)\n",
      "\n",
      "Topic 1 :\n",
      "('account', 0.4364743547802433)\n",
      "('belong', 0.2646896274242208)\n",
      "('ident', 0.2646896274242208)\n",
      "('inacc', 0.2646896274242208)\n",
      "('investigation', 0.2646896274242208)\n",
      "('unaw', 0.2646896274242208)\n",
      "('review', 0.2353045242847616)\n",
      "('lik', 0.21541693723349595)\n",
      "('derog', 0.21180624644471377)\n",
      "('report', 0.18036107380972663)\n",
      "('credit', 0.14374228602927028)\n",
      "\n",
      "Topic 2 :\n",
      "('xx', 0.6148066886426257)\n",
      "('2018', 0.2005334576019864)\n",
      "('2019', 0.18936509473705695)\n",
      "('disput', 0.18382908378215052)\n",
      "('cop', 0.15624384473689754)\n",
      "('main', 0.15624384473689754)\n",
      "('permit', 0.15624384473689754)\n",
      "('fin', 0.12682810505336028)\n",
      "('obtain', 0.11640776023853194)\n",
      "('mon', 0.0767999636140304)\n",
      "('result', 0.07235518159889331)\n"
     ]
    }
   ],
   "source": [
    "prob = list(tfid.get_feature_names())\n",
    "for i,y in enumerate(lsa.components_):\n",
    "    componentwords = zip(prob,y)\n",
    "    sortedComponentwords = sorted(componentwords,key=lambda x:x[1],reverse=True)\n",
    "    sortedComponentwords = sortedComponentwords[:11]\n",
    "    print(\"\\nTopic\",i,\":\")\n",
    "    for x in sortedComponentwords:\n",
    "        print(x)"
   ]
  },
  {
   "cell_type": "code",
   "execution_count": null,
   "metadata": {},
   "outputs": [],
   "source": []
  },
  {
   "cell_type": "markdown",
   "metadata": {},
   "source": [
    "# NEW_EXAMPLE"
   ]
  },
  {
   "cell_type": "code",
   "execution_count": 68,
   "metadata": {},
   "outputs": [],
   "source": [
    "dataset=[\"The amount of pollution is increasing day by day\",\n",
    "\"The concert was just great\", \"I love to see Gordon Ramsay cook\",\n",
    "\"Google is introducing a new technlogy\", \"AI robots are great example of great technology present today\",\n",
    "\"All of us were singing in the concert\", \"We have launch campaigns to stop pollution and global warming\"]"
   ]
  },
  {
   "cell_type": "code",
   "execution_count": 69,
   "metadata": {},
   "outputs": [],
   "source": [
    "from sklearn.feature_extraction.text import TfidfVectorizer"
   ]
  },
  {
   "cell_type": "code",
   "execution_count": 70,
   "metadata": {},
   "outputs": [],
   "source": [
    "from sklearn.decomposition import TruncatedSVD"
   ]
  },
  {
   "cell_type": "code",
   "execution_count": 71,
   "metadata": {},
   "outputs": [],
   "source": [
    "import warnings"
   ]
  },
  {
   "cell_type": "code",
   "execution_count": 72,
   "metadata": {},
   "outputs": [],
   "source": [
    "dataset=[line.lower() for line in dataset]"
   ]
  },
  {
   "cell_type": "code",
   "execution_count": 73,
   "metadata": {},
   "outputs": [],
   "source": [
    "from nltk.corpus import stopwords\n",
    "from string import punctuation"
   ]
  },
  {
   "cell_type": "code",
   "execution_count": 74,
   "metadata": {},
   "outputs": [],
   "source": [
    "stuff_to_be_removed=list(stopwords.words(\"english\"))+list(punctuation)"
   ]
  },
  {
   "cell_type": "code",
   "execution_count": 75,
   "metadata": {},
   "outputs": [],
   "source": [
    "from nltk.tokenize import word_tokenize\n",
    "from nltk.stem import LancasterStemmer"
   ]
  },
  {
   "cell_type": "code",
   "execution_count": 76,
   "metadata": {},
   "outputs": [],
   "source": [
    "lan=LancasterStemmer()"
   ]
  },
  {
   "cell_type": "code",
   "execution_count": 77,
   "metadata": {},
   "outputs": [],
   "source": [
    "final_corpus=[]\n",
    "for i in range(len(dataset)):\n",
    "    word=word_tokenize(dataset[i])\n",
    "    word=[lan.stem(t) for t in word if t not in stuff_to_be_removed]\n",
    "    word=\" \".join(word)\n",
    "    final_corpus.append(word)"
   ]
  },
  {
   "cell_type": "code",
   "execution_count": 78,
   "metadata": {},
   "outputs": [
    {
     "data": {
      "text/plain": [
       "['amount pollut increas day day',\n",
       " 'concert gre',\n",
       " 'lov see gordon ramsay cook',\n",
       " 'googl introduc new technlog',\n",
       " 'ai robot gre exampl gre technolog pres today',\n",
       " 'us sing concert',\n",
       " 'launch campaign stop pollut glob warm']"
      ]
     },
     "execution_count": 78,
     "metadata": {},
     "output_type": "execute_result"
    }
   ],
   "source": [
    "final_corpus"
   ]
  },
  {
   "cell_type": "code",
   "execution_count": 60,
   "metadata": {},
   "outputs": [],
   "source": [
    "warnings=warnings.filterwarnings(\"ignore\")"
   ]
  },
  {
   "cell_type": "code",
   "execution_count": 56,
   "metadata": {},
   "outputs": [],
   "source": [
    "vec=TfidfVectorizer()"
   ]
  },
  {
   "cell_type": "code",
   "execution_count": 57,
   "metadata": {},
   "outputs": [],
   "source": [
    "X=vec.fit_transform(final_corpus)"
   ]
  },
  {
   "cell_type": "code",
   "execution_count": 58,
   "metadata": {},
   "outputs": [
    {
     "data": {
      "text/plain": [
       "<7x28 sparse matrix of type '<class 'numpy.float64'>'\n",
       "\twith 31 stored elements in Compressed Sparse Row format>"
      ]
     },
     "execution_count": 58,
     "metadata": {},
     "output_type": "execute_result"
    }
   ],
   "source": [
    "X"
   ]
  },
  {
   "cell_type": "code",
   "execution_count": 61,
   "metadata": {},
   "outputs": [],
   "source": [
    "lsa=TruncatedSVD(n_components=4,n_iter=100)"
   ]
  },
  {
   "cell_type": "code",
   "execution_count": 62,
   "metadata": {},
   "outputs": [
    {
     "data": {
      "text/plain": [
       "TruncatedSVD(algorithm='randomized', n_components=4, n_iter=100,\n",
       "       random_state=None, tol=0.0)"
      ]
     },
     "execution_count": 62,
     "metadata": {},
     "output_type": "execute_result"
    }
   ],
   "source": [
    "lsa.fit(X)"
   ]
  },
  {
   "cell_type": "code",
   "execution_count": 63,
   "metadata": {},
   "outputs": [
    {
     "data": {
      "text/plain": [
       "array([ 1.43233020e-01, -1.04940182e-16,  6.54483126e-16,  5.97232241e-01,\n",
       "        1.30469728e-16, -2.09880365e-16,  1.43233020e-01,  6.54483126e-16,\n",
       "       -5.49448216e-17,  1.30469728e-16,  6.41447126e-01, -1.04940182e-16,\n",
       "       -5.49448216e-17,  6.54483126e-16,  1.30469728e-16, -5.49448216e-17,\n",
       "        4.56167838e-16,  1.43233020e-01,  1.30469728e-16,  1.43233020e-01,\n",
       "        1.30469728e-16,  2.33200607e-01,  6.54483126e-16, -5.49448216e-17,\n",
       "        1.43233020e-01,  1.43233020e-01,  2.33200607e-01,  6.54483126e-16])"
      ]
     },
     "execution_count": 63,
     "metadata": {},
     "output_type": "execute_result"
    }
   ],
   "source": [
    "#ranking of each 42words in topic1\n",
    "lsa.components_[0]"
   ]
  },
  {
   "cell_type": "code",
   "execution_count": 64,
   "metadata": {},
   "outputs": [],
   "source": [
    "unique_words=vec.get_feature_names()"
   ]
  },
  {
   "cell_type": "code",
   "execution_count": 65,
   "metadata": {},
   "outputs": [
    {
     "data": {
      "text/plain": [
       "['ai',\n",
       " 'amount',\n",
       " 'campaign',\n",
       " 'concert',\n",
       " 'cook',\n",
       " 'day',\n",
       " 'exampl',\n",
       " 'glob',\n",
       " 'googl',\n",
       " 'gordon',\n",
       " 'gre',\n",
       " 'increas',\n",
       " 'introduc',\n",
       " 'launch',\n",
       " 'lov',\n",
       " 'new',\n",
       " 'pollut',\n",
       " 'pres',\n",
       " 'ramsay',\n",
       " 'robot',\n",
       " 'see',\n",
       " 'sing',\n",
       " 'stop',\n",
       " 'technlog',\n",
       " 'technolog',\n",
       " 'today',\n",
       " 'us',\n",
       " 'warm']"
      ]
     },
     "execution_count": 65,
     "metadata": {},
     "output_type": "execute_result"
    }
   ],
   "source": [
    "unique_words"
   ]
  },
  {
   "cell_type": "code",
   "execution_count": 67,
   "metadata": {},
   "outputs": [
    {
     "name": "stdout",
     "output_type": "stream",
     "text": [
      "\n",
      "Topic 0 :\n",
      "('gre', 0.6414471260194736)\n",
      "('concert', 0.5972322410570547)\n",
      "('sing', 0.23320060656875116)\n",
      "('us', 0.23320060656875116)\n",
      "('ai', 0.14323302049181882)\n",
      "\n",
      "Topic 1 :\n",
      "('day', 0.5186085253979095)\n",
      "('pollut', 0.44864169995152087)\n",
      "('campaign', 0.2811719833630367)\n",
      "('glob', 0.2811719833630367)\n",
      "('launch', 0.2811719833630367)\n",
      "\n",
      "Topic 2 :\n",
      "('cook', 0.3473359329051228)\n",
      "('gordon', 0.3473359329051228)\n",
      "('lov', 0.3473359329051228)\n",
      "('ramsay', 0.3473359329051228)\n",
      "('see', 0.3473359329051228)\n",
      "\n",
      "Topic 3 :\n",
      "('googl', 0.4177224979575546)\n",
      "('introduc', 0.4177224979575546)\n",
      "('new', 0.4177224979575546)\n",
      "('technlog', 0.4177224979575546)\n",
      "('cook', 0.23861028981868687)\n"
     ]
    }
   ],
   "source": [
    "prob = list(vec.get_feature_names())\n",
    "for i,y in enumerate(lsa.components_):\n",
    "    componentwords = zip(prob,y)\n",
    "    sortedComponentwords = sorted(componentwords,key=lambda x:x[1],reverse=True)\n",
    "    sortedComponentwords = sortedComponentwords[:5]\n",
    "    print(\"\\nTopic\",i,\":\")\n",
    "    for x in sortedComponentwords:\n",
    "        print(x)"
   ]
  },
  {
   "cell_type": "code",
   "execution_count": null,
   "metadata": {},
   "outputs": [],
   "source": []
  }
 ],
 "metadata": {
  "kernelspec": {
   "display_name": "Python 3",
   "language": "python",
   "name": "python3"
  },
  "language_info": {
   "codemirror_mode": {
    "name": "ipython",
    "version": 3
   },
   "file_extension": ".py",
   "mimetype": "text/x-python",
   "name": "python",
   "nbconvert_exporter": "python",
   "pygments_lexer": "ipython3",
   "version": "3.7.3"
  }
 },
 "nbformat": 4,
 "nbformat_minor": 2
}
